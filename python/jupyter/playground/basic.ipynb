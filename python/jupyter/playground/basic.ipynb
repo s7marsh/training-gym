{
 "cells": [
  {
   "cell_type": "markdown",
   "metadata": {},
   "source": [
    "# Trying Basic Python using Jupiter Notebook\n",
    "Some basic commands\n",
    "* *Edit mode* --> `Esc` --> *Command mode*\n",
    "* *Command mode* --> `Enter` --> *Edit mode*\n",
    "\n",
    "Command mode:\n",
    "* `A` to insert cell ABOVE\n",
    "* `B` to insert cell BELOW\n",
    "* `X` to cut cell\n",
    "* `C` to copy cell\n",
    "* `D, D` to delete cell\n",
    "* `V` to paste\n",
    "\n",
    "Some useful links:\n",
    "* [Towards Data Science](https://towardsdatascience.com/jypyter-notebook-shortcuts-bf0101a98330)\n",
    "* [Google Style Guide](https://google.github.io/styleguide/pyguide.html)"
   ]
  },
  {
   "cell_type": "code",
   "execution_count": null,
   "metadata": {},
   "outputs": [],
   "source": [
    "x = [1,2,3,4]\n",
    "x"
   ]
  },
  {
   "cell_type": "code",
   "execution_count": null,
   "metadata": {},
   "outputs": [],
   "source": [
    "for element in x:\n",
    "    print(element)"
   ]
  },
  {
   "cell_type": "markdown",
   "metadata": {},
   "source": [
    "This is created in *Command mode* via `M` (Python cell to Markdown cell)"
   ]
  },
  {
   "cell_type": "code",
   "execution_count": null,
   "metadata": {},
   "outputs": [],
   "source": [
    "print(\"\"\"From Markdown field, \n",
    "this cell is transformed back to Python cell via `Y`\n",
    "\"\"\")"
   ]
  }
 ],
 "metadata": {
  "kernelspec": {
   "display_name": "Python 3.9.5 64-bit",
   "language": "python",
   "name": "python3"
  },
  "language_info": {
   "codemirror_mode": {
    "name": "ipython",
    "version": 3
   },
   "file_extension": ".py",
   "mimetype": "text/x-python",
   "name": "python",
   "nbconvert_exporter": "python",
   "pygments_lexer": "ipython3",
   "version": "3.9.5"
  },
  "orig_nbformat": 4,
  "vscode": {
   "interpreter": {
    "hash": "fc9e8c42ccd0977e5e207af4097e293c1357e963d051c8688e47d3a465d1e232"
   }
  }
 },
 "nbformat": 4,
 "nbformat_minor": 2
}
