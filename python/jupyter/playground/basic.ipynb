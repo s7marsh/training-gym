{
 "cells": [
  {
   "cell_type": "markdown",
   "metadata": {},
   "source": [
    "# Trying Basic Python using Jupiter Notebook\n",
    "Some basic commands\n",
    "* *Edit mode* --> `Esc` --> *Command mode*\n",
    "* *Command mode* --> `Enter` --> *Edit mode*\n",
    "\n",
    "Command mode:\n",
    "* `A` to insert cell ABOVE\n",
    "* `B` to insert cell BELOW\n",
    "* `X` to cut cell\n",
    "* `C` to copy cell\n",
    "* `D, D` to delete cell\n",
    "* `V` to paste"
   ]
  },
  {
   "cell_type": "code",
   "execution_count": null,
   "metadata": {},
   "outputs": [
    {
     "data": {
      "text/plain": [
       "[1, 2, 3, 4]"
      ]
     },
     "metadata": {},
     "output_type": "display_data"
    }
   ],
   "source": [
    "x = [1,2,3,4]\n",
    "x"
   ]
  },
  {
   "cell_type": "code",
   "execution_count": 2,
   "metadata": {},
   "outputs": [
    {
     "name": "stdout",
     "output_type": "stream",
     "text": [
      "1\n",
      "2\n",
      "3\n",
      "4\n"
     ]
    }
   ],
   "source": [
    "for element in x:\n",
    "    print(element)"
   ]
  },
  {
   "cell_type": "markdown",
   "metadata": {},
   "source": [
    "This is created in *Command mode* via `M` (Python cell to Markdown cell)"
   ]
  },
  {
   "cell_type": "code",
   "execution_count": 3,
   "metadata": {},
   "outputs": [
    {
     "name": "stdout",
     "output_type": "stream",
     "text": [
      "From Markdown field, \n",
      "this cell is transformed back to Python cell via `Y`\n",
      "\n"
     ]
    }
   ],
   "source": [
    "print(\"\"\"From Markdown field, \n",
    "this cell is transformed back to Python cell via `Y`\n",
    "\"\"\")"
   ]
  }
 ],
 "metadata": {
  "kernelspec": {
   "display_name": "Python 3.9.12 ('base')",
   "language": "python",
   "name": "python3"
  },
  "language_info": {
   "codemirror_mode": {
    "name": "ipython",
    "version": 3
   },
   "file_extension": ".py",
   "mimetype": "text/x-python",
   "name": "python",
   "nbconvert_exporter": "python",
   "pygments_lexer": "ipython3",
   "version": "3.9.12"
  },
  "orig_nbformat": 4,
  "vscode": {
   "interpreter": {
    "hash": "01ff9c1242291c1416de594071a429e80e41e2f2277afca57e23cc57c7edf281"
   }
  }
 },
 "nbformat": 4,
 "nbformat_minor": 2
}
